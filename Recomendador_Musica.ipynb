{
 "cells": [
  {
   "cell_type": "code",
   "execution_count": 0,
   "metadata": {
    "application/vnd.databricks.v1+cell": {
     "cellMetadata": {
      "byteLimit": 2048000,
      "rowLimit": 10000
     },
     "inputWidgets": {},
     "nuid": "c7fa5784-cb61-4f77-abfd-dad7b34fcc54",
     "showTitle": false,
     "title": ""
    }
   },
   "outputs": [],
   "source": [
    "import pyspark.pandas as ps"
   ]
  },
  {
   "cell_type": "code",
   "execution_count": 0,
   "metadata": {
    "application/vnd.databricks.v1+cell": {
     "cellMetadata": {
      "byteLimit": 2048000,
      "rowLimit": 10000
     },
     "inputWidgets": {},
     "nuid": "a9198503-e333-4632-b992-ffec3c0da659",
     "showTitle": false,
     "title": ""
    }
   },
   "outputs": [],
   "source": [
    "path = 'dbfs:/FileStore/tables/spotfy/dados_tratados/data.parquet'\n",
    "df_data = ps.read_parquet(path)"
   ]
  },
  {
   "cell_type": "code",
   "execution_count": 0,
   "metadata": {
    "application/vnd.databricks.v1+cell": {
     "cellMetadata": {
      "byteLimit": 2048000,
      "rowLimit": 10000
     },
     "inputWidgets": {},
     "nuid": "405112f5-e455-45fa-8a4f-4e608db815d7",
     "showTitle": false,
     "title": ""
    }
   },
   "outputs": [
    {
     "output_type": "stream",
     "name": "stdout",
     "output_type": "stream",
     "text": [
      "<class 'pyspark.pandas.frame.DataFrame'>\nInt64Index: 170653 entries, 0 to 170652\nData columns (total 19 columns):\n #   Column            Non-Null Count   Dtype  \n---  ------            --------------   -----  \n 0   valence           170653 non-null  float64\n 1   year              170653 non-null  int32  \n 2   acousticness      170653 non-null  float64\n 3   artists           170653 non-null  object \n 4   danceability      170080 non-null  float64\n 5   duration_ms       170454 non-null  int64  \n 6   energy            170573 non-null  float64\n 7   explicit          170606 non-null  int64  \n 8   id                170653 non-null  object \n 9   instrumentalness  170270 non-null  float64\n 10  key               170451 non-null  int64  \n 11  liveness          170613 non-null  float64\n 12  loudness          170621 non-null  float64\n 13  mode              170635 non-null  int64  \n 14  name              170653 non-null  object \n 15  popularity        169496 non-null  int64  \n 16  release_date      170653 non-null  object \n 17  speechiness       170042 non-null  float64\n 18  tempo             170404 non-null  float64\ndtypes: float64(9), int32(1), int64(5), object(4)"
     ]
    }
   ],
   "source": [
    "df_data.info()"
   ]
  },
  {
   "cell_type": "code",
   "execution_count": 0,
   "metadata": {
    "application/vnd.databricks.v1+cell": {
     "cellMetadata": {
      "byteLimit": 2048000,
      "rowLimit": 10000
     },
     "inputWidgets": {},
     "nuid": "46ae0022-f816-4d24-982a-da77ae517077",
     "showTitle": false,
     "title": ""
    }
   },
   "outputs": [],
   "source": [
    "df_data = df_data.dropna()"
   ]
  },
  {
   "cell_type": "code",
   "execution_count": 0,
   "metadata": {
    "application/vnd.databricks.v1+cell": {
     "cellMetadata": {
      "byteLimit": 2048000,
      "rowLimit": 10000
     },
     "inputWidgets": {},
     "nuid": "7f8869ae-e688-4cee-872e-ebb9bca8f54f",
     "showTitle": false,
     "title": ""
    }
   },
   "outputs": [
    {
     "output_type": "stream",
     "name": "stdout",
     "output_type": "stream",
     "text": [
      "<class 'pyspark.pandas.frame.DataFrame'>\nInt64Index: 169300 entries, 0 to 170652\nData columns (total 19 columns):\n #   Column            Non-Null Count   Dtype  \n---  ------            --------------   -----  \n 0   valence           169300 non-null  float64\n 1   year              169300 non-null  int32  \n 2   acousticness      169300 non-null  float64\n 3   artists           169300 non-null  object \n 4   danceability      169300 non-null  float64\n 5   duration_ms       169300 non-null  int64  \n 6   energy            169300 non-null  float64\n 7   explicit          169300 non-null  int64  \n 8   id                169300 non-null  object \n 9   instrumentalness  169300 non-null  float64\n 10  key               169300 non-null  int64  \n 11  liveness          169300 non-null  float64\n 12  loudness          169300 non-null  float64\n 13  mode              169300 non-null  int64  \n 14  name              169300 non-null  object \n 15  popularity        169300 non-null  int64  \n 16  release_date      169300 non-null  object \n 17  speechiness       169300 non-null  float64\n 18  tempo             169300 non-null  float64\ndtypes: float64(9), int32(1), int64(5), object(4)"
     ]
    }
   ],
   "source": [
    "df_data.info()"
   ]
  },
  {
   "cell_type": "code",
   "execution_count": 0,
   "metadata": {
    "application/vnd.databricks.v1+cell": {
     "cellMetadata": {
      "byteLimit": 2048000,
      "rowLimit": 10000
     },
     "inputWidgets": {},
     "nuid": "e06ad25d-1047-4344-a238-4c4fe8d762ab",
     "showTitle": false,
     "title": ""
    }
   },
   "outputs": [],
   "source": [
    "df_data['artists_song'] = df_data.artists + ' - ' + df_data.name"
   ]
  },
  {
   "cell_type": "code",
   "execution_count": 0,
   "metadata": {
    "application/vnd.databricks.v1+cell": {
     "cellMetadata": {
      "byteLimit": 2048000,
      "rowLimit": 10000
     },
     "inputWidgets": {},
     "nuid": "a31e3962-36f7-4278-a4b7-54cef966c456",
     "showTitle": false,
     "title": ""
    }
   },
   "outputs": [
    {
     "output_type": "display_data",
     "data": {
      "text/html": [
       "<div>\n",
       "<style scoped>\n",
       "    .dataframe tbody tr th:only-of-type {\n",
       "        vertical-align: middle;\n",
       "    }\n",
       "\n",
       "    .dataframe tbody tr th {\n",
       "        vertical-align: top;\n",
       "    }\n",
       "\n",
       "    .dataframe thead th {\n",
       "        text-align: right;\n",
       "    }\n",
       "</style>\n",
       "<table border=\"1\" class=\"dataframe\">\n",
       "  <thead>\n",
       "    <tr style=\"text-align: right;\">\n",
       "      <th></th>\n",
       "      <th>valence</th>\n",
       "      <th>year</th>\n",
       "      <th>acousticness</th>\n",
       "      <th>artists</th>\n",
       "      <th>danceability</th>\n",
       "      <th>duration_ms</th>\n",
       "      <th>energy</th>\n",
       "      <th>explicit</th>\n",
       "      <th>id</th>\n",
       "      <th>instrumentalness</th>\n",
       "      <th>key</th>\n",
       "      <th>liveness</th>\n",
       "      <th>loudness</th>\n",
       "      <th>mode</th>\n",
       "      <th>name</th>\n",
       "      <th>popularity</th>\n",
       "      <th>release_date</th>\n",
       "      <th>speechiness</th>\n",
       "      <th>tempo</th>\n",
       "      <th>artists_song</th>\n",
       "    </tr>\n",
       "  </thead>\n",
       "  <tbody>\n",
       "    <tr>\n",
       "      <th>0</th>\n",
       "      <td>0.917</td>\n",
       "      <td>1970</td>\n",
       "      <td>0.096000</td>\n",
       "      <td>The Velvet Underground</td>\n",
       "      <td>0.624</td>\n",
       "      <td>201440</td>\n",
       "      <td>0.774</td>\n",
       "      <td>0</td>\n",
       "      <td>60ZyiL4lmWzZyGfqyECTqp</td>\n",
       "      <td>0.030900</td>\n",
       "      <td>7</td>\n",
       "      <td>0.0960</td>\n",
       "      <td>-10.391</td>\n",
       "      <td>1</td>\n",
       "      <td>Train Round the Bend - 2015 Remaster</td>\n",
       "      <td>24</td>\n",
       "      <td>1970</td>\n",
       "      <td>0.0315</td>\n",
       "      <td>117.006</td>\n",
       "      <td>The Velvet Underground - Train Round the Bend ...</td>\n",
       "    </tr>\n",
       "    <tr>\n",
       "      <th>1</th>\n",
       "      <td>0.511</td>\n",
       "      <td>1970</td>\n",
       "      <td>0.001900</td>\n",
       "      <td>Ten Years After</td>\n",
       "      <td>0.405</td>\n",
       "      <td>458463</td>\n",
       "      <td>0.543</td>\n",
       "      <td>0</td>\n",
       "      <td>6DYyyUdHzI6RdSx0swUR1i</td>\n",
       "      <td>0.720000</td>\n",
       "      <td>2</td>\n",
       "      <td>0.1860</td>\n",
       "      <td>-9.313</td>\n",
       "      <td>1</td>\n",
       "      <td>Love Like a Man - 2017 Remaster</td>\n",
       "      <td>34</td>\n",
       "      <td>1970-04-01</td>\n",
       "      <td>0.0290</td>\n",
       "      <td>107.598</td>\n",
       "      <td>Ten Years After - Love Like a Man - 2017 Remaster</td>\n",
       "    </tr>\n",
       "    <tr>\n",
       "      <th>2</th>\n",
       "      <td>0.466</td>\n",
       "      <td>1970</td>\n",
       "      <td>0.052800</td>\n",
       "      <td>The Mothers Of Invention</td>\n",
       "      <td>0.444</td>\n",
       "      <td>105587</td>\n",
       "      <td>0.568</td>\n",
       "      <td>0</td>\n",
       "      <td>6HJAS8XZO0ctUcN2KsbLRa</td>\n",
       "      <td>0.000010</td>\n",
       "      <td>11</td>\n",
       "      <td>0.5120</td>\n",
       "      <td>-8.800</td>\n",
       "      <td>0</td>\n",
       "      <td>Oh No</td>\n",
       "      <td>24</td>\n",
       "      <td>1970-08-10</td>\n",
       "      <td>0.0327</td>\n",
       "      <td>124.319</td>\n",
       "      <td>The Mothers Of Invention - Oh No</td>\n",
       "    </tr>\n",
       "    <tr>\n",
       "      <th>3</th>\n",
       "      <td>0.523</td>\n",
       "      <td>1970</td>\n",
       "      <td>0.081100</td>\n",
       "      <td>Three Dog Night</td>\n",
       "      <td>0.502</td>\n",
       "      <td>174707</td>\n",
       "      <td>0.669</td>\n",
       "      <td>0</td>\n",
       "      <td>7sZ74qmKb1nyGKUgHROJ1n</td>\n",
       "      <td>0.000945</td>\n",
       "      <td>7</td>\n",
       "      <td>0.0906</td>\n",
       "      <td>-11.725</td>\n",
       "      <td>1</td>\n",
       "      <td>One Man Band</td>\n",
       "      <td>19</td>\n",
       "      <td>1970-01-01</td>\n",
       "      <td>0.0912</td>\n",
       "      <td>121.089</td>\n",
       "      <td>Three Dog Night - One Man Band</td>\n",
       "    </tr>\n",
       "    <tr>\n",
       "      <th>4</th>\n",
       "      <td>0.501</td>\n",
       "      <td>1970</td>\n",
       "      <td>0.000128</td>\n",
       "      <td>The Rolling Stones</td>\n",
       "      <td>0.273</td>\n",
       "      <td>246413</td>\n",
       "      <td>0.866</td>\n",
       "      <td>0</td>\n",
       "      <td>095WtNlSHE8TMB2gQ1fdTx</td>\n",
       "      <td>0.790000</td>\n",
       "      <td>11</td>\n",
       "      <td>0.9610</td>\n",
       "      <td>-7.598</td>\n",
       "      <td>1</td>\n",
       "      <td>Street Fighting Man - Live</td>\n",
       "      <td>25</td>\n",
       "      <td>1970-09-04</td>\n",
       "      <td>0.0347</td>\n",
       "      <td>134.891</td>\n",
       "      <td>The Rolling Stones - Street Fighting Man - Live</td>\n",
       "    </tr>\n",
       "  </tbody>\n",
       "</table>\n",
       "</div>"
      ]
     },
     "metadata": {
      "application/vnd.databricks.v1+output": {
       "addedWidgets": {},
       "arguments": {},
       "data": "<div>\n<style scoped>\n    .dataframe tbody tr th:only-of-type {\n        vertical-align: middle;\n    }\n\n    .dataframe tbody tr th {\n        vertical-align: top;\n    }\n\n    .dataframe thead th {\n        text-align: right;\n    }\n</style>\n<table border=\"1\" class=\"dataframe\">\n  <thead>\n    <tr style=\"text-align: right;\">\n      <th></th>\n      <th>valence</th>\n      <th>year</th>\n      <th>acousticness</th>\n      <th>artists</th>\n      <th>danceability</th>\n      <th>duration_ms</th>\n      <th>energy</th>\n      <th>explicit</th>\n      <th>id</th>\n      <th>instrumentalness</th>\n      <th>key</th>\n      <th>liveness</th>\n      <th>loudness</th>\n      <th>mode</th>\n      <th>name</th>\n      <th>popularity</th>\n      <th>release_date</th>\n      <th>speechiness</th>\n      <th>tempo</th>\n      <th>artists_song</th>\n    </tr>\n  </thead>\n  <tbody>\n    <tr>\n      <th>0</th>\n      <td>0.917</td>\n      <td>1970</td>\n      <td>0.096000</td>\n      <td>The Velvet Underground</td>\n      <td>0.624</td>\n      <td>201440</td>\n      <td>0.774</td>\n      <td>0</td>\n      <td>60ZyiL4lmWzZyGfqyECTqp</td>\n      <td>0.030900</td>\n      <td>7</td>\n      <td>0.0960</td>\n      <td>-10.391</td>\n      <td>1</td>\n      <td>Train Round the Bend - 2015 Remaster</td>\n      <td>24</td>\n      <td>1970</td>\n      <td>0.0315</td>\n      <td>117.006</td>\n      <td>The Velvet Underground - Train Round the Bend ...</td>\n    </tr>\n    <tr>\n      <th>1</th>\n      <td>0.511</td>\n      <td>1970</td>\n      <td>0.001900</td>\n      <td>Ten Years After</td>\n      <td>0.405</td>\n      <td>458463</td>\n      <td>0.543</td>\n      <td>0</td>\n      <td>6DYyyUdHzI6RdSx0swUR1i</td>\n      <td>0.720000</td>\n      <td>2</td>\n      <td>0.1860</td>\n      <td>-9.313</td>\n      <td>1</td>\n      <td>Love Like a Man - 2017 Remaster</td>\n      <td>34</td>\n      <td>1970-04-01</td>\n      <td>0.0290</td>\n      <td>107.598</td>\n      <td>Ten Years After - Love Like a Man - 2017 Remaster</td>\n    </tr>\n    <tr>\n      <th>2</th>\n      <td>0.466</td>\n      <td>1970</td>\n      <td>0.052800</td>\n      <td>The Mothers Of Invention</td>\n      <td>0.444</td>\n      <td>105587</td>\n      <td>0.568</td>\n      <td>0</td>\n      <td>6HJAS8XZO0ctUcN2KsbLRa</td>\n      <td>0.000010</td>\n      <td>11</td>\n      <td>0.5120</td>\n      <td>-8.800</td>\n      <td>0</td>\n      <td>Oh No</td>\n      <td>24</td>\n      <td>1970-08-10</td>\n      <td>0.0327</td>\n      <td>124.319</td>\n      <td>The Mothers Of Invention - Oh No</td>\n    </tr>\n    <tr>\n      <th>3</th>\n      <td>0.523</td>\n      <td>1970</td>\n      <td>0.081100</td>\n      <td>Three Dog Night</td>\n      <td>0.502</td>\n      <td>174707</td>\n      <td>0.669</td>\n      <td>0</td>\n      <td>7sZ74qmKb1nyGKUgHROJ1n</td>\n      <td>0.000945</td>\n      <td>7</td>\n      <td>0.0906</td>\n      <td>-11.725</td>\n      <td>1</td>\n      <td>One Man Band</td>\n      <td>19</td>\n      <td>1970-01-01</td>\n      <td>0.0912</td>\n      <td>121.089</td>\n      <td>Three Dog Night - One Man Band</td>\n    </tr>\n    <tr>\n      <th>4</th>\n      <td>0.501</td>\n      <td>1970</td>\n      <td>0.000128</td>\n      <td>The Rolling Stones</td>\n      <td>0.273</td>\n      <td>246413</td>\n      <td>0.866</td>\n      <td>0</td>\n      <td>095WtNlSHE8TMB2gQ1fdTx</td>\n      <td>0.790000</td>\n      <td>11</td>\n      <td>0.9610</td>\n      <td>-7.598</td>\n      <td>1</td>\n      <td>Street Fighting Man - Live</td>\n      <td>25</td>\n      <td>1970-09-04</td>\n      <td>0.0347</td>\n      <td>134.891</td>\n      <td>The Rolling Stones - Street Fighting Man - Live</td>\n    </tr>\n  </tbody>\n</table>\n</div>",
       "datasetInfos": [],
       "metadata": {},
       "removedWidgets": [],
       "textData": null,
       "type": "htmlSandbox"
      }
     },
     "output_type": "display_data"
    }
   ],
   "source": [
    "df_data.head()"
   ]
  },
  {
   "cell_type": "code",
   "execution_count": 0,
   "metadata": {
    "application/vnd.databricks.v1+cell": {
     "cellMetadata": {
      "byteLimit": 2048000,
      "rowLimit": 10000
     },
     "inputWidgets": {},
     "nuid": "1498cdae-abf4-4ed2-bf32-e3eec56a0a00",
     "showTitle": false,
     "title": ""
    }
   },
   "outputs": [
    {
     "output_type": "stream",
     "name": "stdout",
     "output_type": "stream",
     "text": [
      "<class 'pyspark.pandas.frame.DataFrame'>\nInt64Index: 169300 entries, 0 to 170652\nData columns (total 20 columns):\n #   Column            Non-Null Count   Dtype  \n---  ------            --------------   -----  \n 0   valence           169300 non-null  float64\n 1   year              169300 non-null  int32  \n 2   acousticness      169300 non-null  float64\n 3   artists           169300 non-null  object \n 4   danceability      169300 non-null  float64\n 5   duration_ms       169300 non-null  int64  \n 6   energy            169300 non-null  float64\n 7   explicit          169300 non-null  int64  \n 8   id                169300 non-null  object \n 9   instrumentalness  169300 non-null  float64\n 10  key               169300 non-null  int64  \n 11  liveness          169300 non-null  float64\n 12  loudness          169300 non-null  float64\n 13  mode              169300 non-null  int64  \n 14  name              169300 non-null  object \n 15  popularity        169300 non-null  int64  \n 16  release_date      169300 non-null  object \n 17  speechiness       169300 non-null  float64\n 18  tempo             169300 non-null  float64\n 19  artists_song      169300 non-null  object \ndtypes: float64(9), int32(1), int64(5), object(5)"
     ]
    }
   ],
   "source": [
    "df_data.info()"
   ]
  },
  {
   "cell_type": "code",
   "execution_count": 0,
   "metadata": {
    "application/vnd.databricks.v1+cell": {
     "cellMetadata": {
      "byteLimit": 2048000,
      "rowLimit": 10000
     },
     "inputWidgets": {},
     "nuid": "3909aec1-9c77-49c9-a242-e4c791588448",
     "showTitle": false,
     "title": ""
    }
   },
   "outputs": [
    {
     "output_type": "stream",
     "name": "stdout",
     "output_type": "stream",
     "text": [
      "Out[10]: ['valence',\n 'year',\n 'acousticness',\n 'danceability',\n 'duration_ms',\n 'energy',\n 'explicit',\n 'instrumentalness',\n 'key',\n 'liveness',\n 'loudness',\n 'mode',\n 'popularity',\n 'speechiness',\n 'tempo']"
     ]
    }
   ],
   "source": [
    "X = df_data.columns.to_list() #Tranformando os nomes das colunas em uma lista e removendo elas da lista\n",
    "X.remove('artists')\n",
    "X.remove('id')\n",
    "X.remove('name')\n",
    "X.remove('artists_song')\n",
    "X.remove('release_date')\n",
    "X"
   ]
  },
  {
   "cell_type": "markdown",
   "metadata": {
    "application/vnd.databricks.v1+cell": {
     "cellMetadata": {
      "byteLimit": 2048000,
      "rowLimit": 10000
     },
     "inputWidgets": {},
     "nuid": "9041ba0f-2690-4be5-94b0-e74ebf43a331",
     "showTitle": false,
     "title": ""
    }
   },
   "source": [
    "#Transformando o data framepandas no dataframe sql do spark\n",
    "\n",
    "O pandas não suporta um modelo de mli, então passamos para o spark"
   ]
  },
  {
   "cell_type": "code",
   "execution_count": 0,
   "metadata": {
    "application/vnd.databricks.v1+cell": {
     "cellMetadata": {
      "byteLimit": 2048000,
      "rowLimit": 10000
     },
     "inputWidgets": {},
     "nuid": "9623a48c-6b56-44ab-a406-64d4407f8cfe",
     "showTitle": false,
     "title": ""
    }
   },
   "outputs": [],
   "source": [
    "df_data = df_data.to_spark()"
   ]
  },
  {
   "cell_type": "code",
   "execution_count": 0,
   "metadata": {
    "application/vnd.databricks.v1+cell": {
     "cellMetadata": {
      "byteLimit": 2048000,
      "rowLimit": 10000
     },
     "inputWidgets": {},
     "nuid": "8ee0b93a-4724-42f5-936d-75049afb9fdc",
     "showTitle": false,
     "title": ""
    }
   },
   "outputs": [],
   "source": [
    "#Temos que tranformar os dados colunares em vetores (lista), porque é como o MLI funciona"
   ]
  },
  {
   "cell_type": "code",
   "execution_count": 0,
   "metadata": {
    "application/vnd.databricks.v1+cell": {
     "cellMetadata": {
      "byteLimit": 2048000,
      "rowLimit": 10000
     },
     "inputWidgets": {},
     "nuid": "fbdec36e-ac17-41d5-b93c-a95657152de9",
     "showTitle": false,
     "title": ""
    }
   },
   "outputs": [],
   "source": [
    "from pyspark.ml.feature import VectorAssembler"
   ]
  },
  {
   "cell_type": "code",
   "execution_count": 0,
   "metadata": {
    "application/vnd.databricks.v1+cell": {
     "cellMetadata": {
      "byteLimit": 2048000,
      "rowLimit": 10000
     },
     "inputWidgets": {},
     "nuid": "66440b55-433a-482e-a2d5-6b427328c5f3",
     "showTitle": false,
     "title": ""
    }
   },
   "outputs": [],
   "source": [
    "dados_encoded_vector = VectorAssembler(inputCols=X,\n",
    "outputCol='features').transform(df_data)"
   ]
  },
  {
   "cell_type": "code",
   "execution_count": 0,
   "metadata": {
    "application/vnd.databricks.v1+cell": {
     "cellMetadata": {
      "byteLimit": 2048000,
      "rowLimit": 10000
     },
     "inputWidgets": {},
     "nuid": "d569cbd1-2546-4d0d-9e08-a038302f4dd0",
     "showTitle": false,
     "title": ""
    }
   },
   "outputs": [
    {
     "output_type": "stream",
     "name": "stdout",
     "output_type": "stream",
     "text": [
      "+----------------------------------------------------------------------------------------------------------------------+\n|features                                                                                                              |\n+----------------------------------------------------------------------------------------------------------------------+\n|[0.917,1970.0,0.096,0.624,201440.0,0.774,0.0,0.0309,7.0,0.096,-10.390999999999998,1.0,24.0,0.0315,117.006]            |\n|[0.511,1970.0,0.0019,0.405,458463.0,0.5429999999999999,0.0,0.72,2.0,0.18600000000000005,-9.313,1.0,34.0,0.029,107.598]|\n|[0.466,1970.0,0.0528,0.444,105587.0,0.568,0.0,1.02E-5,11.0,0.512,-8.8,0.0,24.0,0.0327,124.319]                        |\n|[0.523,1970.0,0.0811,0.502,174707.0,0.669,0.0,9.45E-4,7.0,0.0906,-11.725,1.0,19.0,0.0912,121.089]                     |\n|[0.501,1970.0,1.28E-4,0.273,246413.0,0.866,0.0,0.79,11.0,0.961,-7.598,1.0,25.0,0.0347,134.891]                        |\n+----------------------------------------------------------------------------------------------------------------------+\nonly showing top 5 rows\n\n"
     ]
    }
   ],
   "source": [
    "dados_encoded_vector.select('features').show(truncate=False, n=5)"
   ]
  },
  {
   "cell_type": "markdown",
   "metadata": {
    "application/vnd.databricks.v1+cell": {
     "cellMetadata": {
      "byteLimit": 2048000,
      "rowLimit": 10000
     },
     "inputWidgets": {},
     "nuid": "593a7bb9-8129-497a-a3e0-86d104153a76",
     "showTitle": false,
     "title": ""
    }
   },
   "source": [
    "#Padrionizando os dados"
   ]
  },
  {
   "cell_type": "code",
   "execution_count": 0,
   "metadata": {
    "application/vnd.databricks.v1+cell": {
     "cellMetadata": {
      "byteLimit": 2048000,
      "rowLimit": 10000
     },
     "inputWidgets": {},
     "nuid": "9359735b-6acf-400c-a47a-b9a305560710",
     "showTitle": false,
     "title": ""
    }
   },
   "outputs": [],
   "source": [
    "from pyspark.ml.feature import StandardScaler"
   ]
  },
  {
   "cell_type": "code",
   "execution_count": 0,
   "metadata": {
    "application/vnd.databricks.v1+cell": {
     "cellMetadata": {
      "byteLimit": 2048000,
      "rowLimit": 10000
     },
     "inputWidgets": {},
     "nuid": "d6ae7bcb-131f-4ad3-aedd-516f5eed6505",
     "showTitle": false,
     "title": ""
    }
   },
   "outputs": [],
   "source": [
    "scaler = StandardScaler(inputCol='features', outputCol='features_scaled')\n",
    "model_scaler = scaler.fit(dados_encoded_vector)\n",
    "dados_musicas_scaler = model_scaler.transform(dados_encoded_vector)"
   ]
  },
  {
   "cell_type": "code",
   "execution_count": 0,
   "metadata": {
    "application/vnd.databricks.v1+cell": {
     "cellMetadata": {
      "byteLimit": 2048000,
      "rowLimit": 10000
     },
     "inputWidgets": {},
     "nuid": "a0692122-a0bb-429d-8391-cb2fbb56d064",
     "showTitle": false,
     "title": ""
    }
   },
   "outputs": [
    {
     "output_type": "stream",
     "name": "stdout",
     "output_type": "stream",
     "text": [
      "+------------------------------------------------------------------------------------------------------------------------------------------------------------------------------------------------------------------------------------------------------------------------------+\n|features_scaled                                                                                                                                                                                                                                                               |\n+------------------------------------------------------------------------------------------------------------------------------------------------------------------------------------------------------------------------------------------------------------------------------+\n|[3.493845627581973,76.01945247914719,0.25560097373899326,3.553867728626555,1.6031732036099804,2.8949505209817366,0.0,0.09859458986370954,1.9913197029800866,0.5493560155028588,-1.830035407373086,2.196568823329722,1.1017086567137089,0.19319095882698092,3.8127775722269495]|\n|[1.9469521436143817,76.01945247914719,0.0050587692719175755,2.306596843098966,3.648707289747034,2.0309536600685822,0.0,2.2973496667272126,0.568948486565739,1.0643772800367892,-1.6401809016327162,2.196568823329722,1.560753930344421,0.1778583430470618,3.5062068715832977] |\n|[1.7754984323371859,76.01945247914719,0.1405805355564463,2.528713576138126,0.8403209345192961,2.124459813847062,0.0,3.254578694530218E-5,3.1292166761115645,2.92989874934858,-1.5498326999213896,0.0,1.1017086567137089,0.20055061440134211,4.05108024376256]                 |\n|[1.9926731332883008,76.01945247914719,0.21592957260658704,2.859041025273286,1.39041690271589,2.5022246751121213,0.0,0.0030152714375794665,1.9913197029800866,0.518454739630823,-2.064975955292988,2.196568823329722,0.8721860198983529,0.5593338236514496,3.9458269101019527] |\n|[1.908851318886116,76.01945247914719,3.408012983186577E-4,1.554817131274118,1.9610937183337278,3.2390531668865425,0.0,2.5207031065479137,3.1292166761115645,5.499282613523409,-1.338139642500309,2.196568823329722,1.14761318407678,0.2128167070252774,4.395581247929726]     |\n+------------------------------------------------------------------------------------------------------------------------------------------------------------------------------------------------------------------------------------------------------------------------------+\nonly showing top 5 rows\n\n"
     ]
    }
   ],
   "source": [
    "dados_musicas_scaler.select('features_scaled').show(truncate=False, n=5)"
   ]
  },
  {
   "cell_type": "markdown",
   "metadata": {
    "application/vnd.databricks.v1+cell": {
     "cellMetadata": {
      "byteLimit": 2048000,
      "rowLimit": 10000
     },
     "inputWidgets": {},
     "nuid": "8fd9d521-b9f7-4012-9be3-825af14e51a0",
     "showTitle": false,
     "title": ""
    }
   },
   "source": [
    "#PCA\n",
    "Reduzir o número de features por PCA"
   ]
  },
  {
   "cell_type": "code",
   "execution_count": 0,
   "metadata": {
    "application/vnd.databricks.v1+cell": {
     "cellMetadata": {
      "byteLimit": 2048000,
      "rowLimit": 10000
     },
     "inputWidgets": {},
     "nuid": "8a46ee9a-4efd-44f8-96eb-fc44a614b563",
     "showTitle": false,
     "title": ""
    }
   },
   "outputs": [
    {
     "output_type": "stream",
     "name": "stdout",
     "output_type": "stream",
     "text": [
      "Out[19]: 15"
     ]
    }
   ],
   "source": [
    "k = len(X)\n",
    "k"
   ]
  },
  {
   "cell_type": "code",
   "execution_count": 0,
   "metadata": {
    "application/vnd.databricks.v1+cell": {
     "cellMetadata": {
      "byteLimit": 2048000,
      "rowLimit": 10000
     },
     "inputWidgets": {},
     "nuid": "1e3c82a8-f5f8-48cf-b2b8-80442fe89146",
     "showTitle": false,
     "title": ""
    }
   },
   "outputs": [],
   "source": [
    "from pyspark.ml.feature import PCA"
   ]
  },
  {
   "cell_type": "code",
   "execution_count": 0,
   "metadata": {
    "application/vnd.databricks.v1+cell": {
     "cellMetadata": {
      "byteLimit": 2048000,
      "rowLimit": 10000
     },
     "inputWidgets": {},
     "nuid": "e4bed7c3-e731-4108-aceb-97862cbd9825",
     "showTitle": false,
     "title": ""
    }
   },
   "outputs": [],
   "source": [
    "pca = PCA(k=k, inputCol='features_scaled', outputCol='pca_features')\n",
    "model_pca = pca.fit(dados_musicas_scaler)\n",
    "dados_musicas_pca = model_pca.transform(dados_musicas_scaler)"
   ]
  },
  {
   "cell_type": "code",
   "execution_count": 0,
   "metadata": {
    "application/vnd.databricks.v1+cell": {
     "cellMetadata": {
      "byteLimit": 2048000,
      "rowLimit": 10000
     },
     "inputWidgets": {},
     "nuid": "3f803fd5-efe8-42df-93d9-f26c0a1a3e2b",
     "showTitle": false,
     "title": ""
    }
   },
   "outputs": [
    {
     "output_type": "stream",
     "name": "stdout",
     "output_type": "stream",
     "text": [
      "Out[22]: 100.00000000000003"
     ]
    }
   ],
   "source": [
    "sum(model_pca.explainedVariance) * 100"
   ]
  },
  {
   "cell_type": "code",
   "execution_count": 0,
   "metadata": {
    "application/vnd.databricks.v1+cell": {
     "cellMetadata": {
      "byteLimit": 2048000,
      "rowLimit": 10000
     },
     "inputWidgets": {},
     "nuid": "b1b9e3ca-a9dd-4a09-adc9-0ab39bde8fe5",
     "showTitle": false,
     "title": ""
    }
   },
   "outputs": [
    {
     "output_type": "stream",
     "name": "stdout",
     "output_type": "stream",
     "text": [
      "Out[23]: [0.26559546201574613,\n 0.38633995568156565,\n 0.481313066659682,\n 0.5598342425313095,\n 0.6341616245863154,\n 0.6968259227182991,\n 0.7579363400230551,\n 0.8140504754940465,\n 0.8640376949888987,\n 0.9058308612627605,\n 0.9400513661542073,\n 0.9627442126908647,\n 0.9830935482319775,\n 0.9919540017169323,\n 1.0000000000000002]"
     ]
    }
   ],
   "source": [
    "lista_valores = [sum(model_pca.explainedVariance[0:i+1]) for i in range(k)]\n",
    "lista_valores"
   ]
  },
  {
   "cell_type": "code",
   "execution_count": 0,
   "metadata": {
    "application/vnd.databricks.v1+cell": {
     "cellMetadata": {
      "byteLimit": 2048000,
      "rowLimit": 10000
     },
     "inputWidgets": {},
     "nuid": "23e15bf0-87c4-4c0a-b63a-b42e525ec7d3",
     "showTitle": false,
     "title": ""
    }
   },
   "outputs": [],
   "source": [
    "import numpy as np"
   ]
  },
  {
   "cell_type": "code",
   "execution_count": 0,
   "metadata": {
    "application/vnd.databricks.v1+cell": {
     "cellMetadata": {
      "byteLimit": 2048000,
      "rowLimit": 10000
     },
     "inputWidgets": {},
     "nuid": "9005aef8-3bf1-4a5c-b357-39867ab36c90",
     "showTitle": false,
     "title": ""
    }
   },
   "outputs": [
    {
     "output_type": "stream",
     "name": "stdout",
     "output_type": "stream",
     "text": [
      "Out[25]: 6"
     ]
    }
   ],
   "source": [
    "k = sum(np.array(lista_valores) <= 0.7)\n",
    "k"
   ]
  },
  {
   "cell_type": "code",
   "execution_count": 0,
   "metadata": {
    "application/vnd.databricks.v1+cell": {
     "cellMetadata": {
      "byteLimit": 2048000,
      "rowLimit": 10000
     },
     "inputWidgets": {},
     "nuid": "7cc0c35b-49a2-47ac-b60f-ca9d5dab8294",
     "showTitle": false,
     "title": ""
    }
   },
   "outputs": [],
   "source": [
    "pca = PCA(k=k, inputCol='features_scaled', outputCol='pca_features')\n",
    "model_pca = pca.fit(dados_musicas_scaler)\n",
    "dados_musicas_pca_final = model_pca.transform(dados_musicas_scaler)"
   ]
  },
  {
   "cell_type": "code",
   "execution_count": 0,
   "metadata": {
    "application/vnd.databricks.v1+cell": {
     "cellMetadata": {
      "byteLimit": 2048000,
      "rowLimit": 10000
     },
     "inputWidgets": {},
     "nuid": "193a6658-a4de-4347-8e41-69b3a208264c",
     "showTitle": false,
     "title": ""
    }
   },
   "outputs": [
    {
     "output_type": "stream",
     "name": "stdout",
     "output_type": "stream",
     "text": [
      "+----------------------------------------------------------------------------------------------------------------------+\n|pca_features                                                                                                          |\n+----------------------------------------------------------------------------------------------------------------------+\n|[-32.31725372407879,-18.925010131278484,10.92771429220363,-14.569692108954701,-3.1817403495417502,4.244071962867768]  |\n|[-31.132818221782877,-21.34230486564101,12.383759684804449,-13.755472800980986,-3.890295461577214,3.440922089757798]  |\n|[-31.78064916266871,-19.569645663588258,12.541114621263855,-12.7857999611422,-1.5971144308353942,4.985715880825078]   |\n|[-31.60584489317542,-19.547985862609632,11.833448205764727,-14.450217738392638,-3.5070019153785843,4.9497172630424515]|\n|[-31.594059088957664,-20.741768225806418,12.379789932280927,-9.883622640679894,-2.659184406138894,4.54861497646521]   |\n+----------------------------------------------------------------------------------------------------------------------+\nonly showing top 5 rows\n\n"
     ]
    }
   ],
   "source": [
    "dados_musicas_pca_final.select('pca_features').show(truncate=False, n=5)"
   ]
  },
  {
   "cell_type": "code",
   "execution_count": 0,
   "metadata": {
    "application/vnd.databricks.v1+cell": {
     "cellMetadata": {
      "byteLimit": 2048000,
      "rowLimit": 10000
     },
     "inputWidgets": {},
     "nuid": "bd3abd2a-05ac-4464-811c-92e98ed4e9df",
     "showTitle": false,
     "title": ""
    }
   },
   "outputs": [],
   "source": [
    "from pyspark.ml import Pipeline"
   ]
  },
  {
   "cell_type": "code",
   "execution_count": 0,
   "metadata": {
    "application/vnd.databricks.v1+cell": {
     "cellMetadata": {
      "byteLimit": 2048000,
      "rowLimit": 10000
     },
     "inputWidgets": {},
     "nuid": "ad194db5-8a9e-4a63-b5ce-ec18385260f7",
     "showTitle": false,
     "title": ""
    }
   },
   "outputs": [],
   "source": [
    "pca_pipeline = Pipeline(stages=[VectorAssembler(inputCols=X, outputCol='features'),\n",
    "                                StandardScaler(inputCol='features', outputCol='features_scaled'),\n",
    "                                PCA(k=6, inputCol='features_scaled', outputCol='pca_features')])"
   ]
  },
  {
   "cell_type": "code",
   "execution_count": 0,
   "metadata": {
    "application/vnd.databricks.v1+cell": {
     "cellMetadata": {
      "byteLimit": 2048000,
      "rowLimit": 10000
     },
     "inputWidgets": {},
     "nuid": "22982f66-8e2c-48be-9e16-1fc632d13660",
     "showTitle": false,
     "title": ""
    }
   },
   "outputs": [],
   "source": [
    "model_pca_pipeline = pca_pipeline.fit(df_data)"
   ]
  },
  {
   "cell_type": "code",
   "execution_count": 0,
   "metadata": {
    "application/vnd.databricks.v1+cell": {
     "cellMetadata": {
      "byteLimit": 2048000,
      "rowLimit": 10000
     },
     "inputWidgets": {},
     "nuid": "aef37aa7-639d-4cd6-9524-f96109f60e78",
     "showTitle": false,
     "title": ""
    }
   },
   "outputs": [],
   "source": [
    "projection = model_pca_pipeline.transform(df_data)"
   ]
  },
  {
   "cell_type": "code",
   "execution_count": 0,
   "metadata": {
    "application/vnd.databricks.v1+cell": {
     "cellMetadata": {
      "byteLimit": 2048000,
      "rowLimit": 10000
     },
     "inputWidgets": {},
     "nuid": "1fedabc4-2774-4f16-900b-71e5430dfc29",
     "showTitle": false,
     "title": ""
    }
   },
   "outputs": [
    {
     "output_type": "stream",
     "name": "stdout",
     "output_type": "stream",
     "text": [
      "+----------------------------------------------------------------------------------------------------------------------+\n|pca_features                                                                                                          |\n+----------------------------------------------------------------------------------------------------------------------+\n|[-32.31725372407879,-18.925010131278484,10.92771429220363,-14.569692108954701,-3.1817403495417502,4.244071962867768]  |\n|[-31.132818221782877,-21.34230486564101,12.383759684804449,-13.755472800980986,-3.890295461577214,3.440922089757798]  |\n|[-31.78064916266871,-19.569645663588258,12.541114621263855,-12.7857999611422,-1.5971144308353942,4.985715880825078]   |\n|[-31.60584489317542,-19.547985862609632,11.833448205764727,-14.450217738392638,-3.5070019153785843,4.9497172630424515]|\n|[-31.594059088957664,-20.741768225806418,12.379789932280927,-9.883622640679894,-2.659184406138894,4.54861497646521]   |\n+----------------------------------------------------------------------------------------------------------------------+\nonly showing top 5 rows\n\n"
     ]
    }
   ],
   "source": [
    "projection.select('pca_features').show(truncate=False, n=5)"
   ]
  },
  {
   "cell_type": "code",
   "execution_count": 0,
   "metadata": {
    "application/vnd.databricks.v1+cell": {
     "cellMetadata": {
      "byteLimit": 2048000,
      "rowLimit": 10000
     },
     "inputWidgets": {},
     "nuid": "410d7e96-00fe-445c-8ac1-921f9866b6ec",
     "showTitle": false,
     "title": ""
    }
   },
   "outputs": [],
   "source": [
    "from pyspark.ml.clustering import KMeans"
   ]
  },
  {
   "cell_type": "code",
   "execution_count": 0,
   "metadata": {
    "application/vnd.databricks.v1+cell": {
     "cellMetadata": {
      "byteLimit": 2048000,
      "rowLimit": 10000
     },
     "inputWidgets": {},
     "nuid": "1bb18518-b05c-416b-9870-a5f79a486fa7",
     "showTitle": false,
     "title": ""
    }
   },
   "outputs": [],
   "source": [
    "SEED = 1224"
   ]
  },
  {
   "cell_type": "code",
   "execution_count": 0,
   "metadata": {
    "application/vnd.databricks.v1+cell": {
     "cellMetadata": {
      "byteLimit": 2048000,
      "rowLimit": 10000
     },
     "inputWidgets": {},
     "nuid": "2208fb4a-c26c-49f7-b585-3887cb0fe366",
     "showTitle": false,
     "title": ""
    }
   },
   "outputs": [],
   "source": [
    "kmeans = KMeans(k=50, featuresCol='pca_features', predictionCol='cluster_pca', seed=SEED)"
   ]
  },
  {
   "cell_type": "code",
   "execution_count": 0,
   "metadata": {
    "application/vnd.databricks.v1+cell": {
     "cellMetadata": {
      "byteLimit": 2048000,
      "rowLimit": 10000
     },
     "inputWidgets": {},
     "nuid": "95c3ca6f-6ec3-4a18-9f79-ff6131fd51a1",
     "showTitle": false,
     "title": ""
    }
   },
   "outputs": [],
   "source": [
    "modelo_kmeans = kmeans.fit(projection)"
   ]
  },
  {
   "cell_type": "code",
   "execution_count": 0,
   "metadata": {
    "application/vnd.databricks.v1+cell": {
     "cellMetadata": {
      "byteLimit": 2048000,
      "rowLimit": 10000
     },
     "inputWidgets": {},
     "nuid": "f88bb8ef-8e49-456f-9d55-a7d487983e67",
     "showTitle": false,
     "title": ""
    }
   },
   "outputs": [],
   "source": [
    "projection_kmeans = modelo_kmeans.transform(projection)"
   ]
  },
  {
   "cell_type": "code",
   "execution_count": 0,
   "metadata": {
    "application/vnd.databricks.v1+cell": {
     "cellMetadata": {
      "byteLimit": 2048000,
      "rowLimit": 10000
     },
     "inputWidgets": {},
     "nuid": "cd103e1d-e295-4dae-b182-68f78a73c432",
     "showTitle": false,
     "title": ""
    }
   },
   "outputs": [
    {
     "output_type": "stream",
     "name": "stdout",
     "output_type": "stream",
     "text": [
      "+--------------------+-----------+\n|        pca_features|cluster_pca|\n+--------------------+-----------+\n|[-32.317253724078...|         31|\n|[-31.132818221782...|         21|\n|[-31.780649162668...|          9|\n|[-31.605844893175...|         31|\n|[-31.594059088957...|         43|\n|[-31.938780024366...|         13|\n|[-29.686935486197...|         47|\n|[-31.539167346660...|         32|\n|[-30.771547827750...|         17|\n|[-29.965130076522...|         19|\n|[-31.131053018497...|         31|\n|[-31.266813769537...|         31|\n|[-31.446803723293...|         31|\n|[-29.943208559405...|          4|\n|[-29.853371939403...|         14|\n|[-31.758364291022...|         31|\n|[-30.549983241698...|          2|\n|[-29.347404415385...|         42|\n|[-31.337850883791...|         31|\n|[-32.659644073618...|         45|\n+--------------------+-----------+\nonly showing top 20 rows\n\n"
     ]
    }
   ],
   "source": [
    "projection_kmeans.select(['pca_features', 'cluster_pca']).show()"
   ]
  },
  {
   "cell_type": "code",
   "execution_count": 0,
   "metadata": {
    "application/vnd.databricks.v1+cell": {
     "cellMetadata": {
      "byteLimit": 2048000,
      "rowLimit": 10000
     },
     "inputWidgets": {},
     "nuid": "cb03927c-d80f-4e18-b390-efd27f4ba429",
     "showTitle": false,
     "title": ""
    }
   },
   "outputs": [],
   "source": [
    "from pyspark.ml.functions import vector_to_array"
   ]
  },
  {
   "cell_type": "code",
   "execution_count": 0,
   "metadata": {
    "application/vnd.databricks.v1+cell": {
     "cellMetadata": {
      "byteLimit": 2048000,
      "rowLimit": 10000
     },
     "inputWidgets": {},
     "nuid": "76afb831-a7f2-4f14-a750-bf4e46434c6a",
     "showTitle": false,
     "title": ""
    }
   },
   "outputs": [],
   "source": [
    "projection_kmeans = projection_kmeans.withColumn('x', vector_to_array('pca_features')[0])\\\n",
    "                                   .withColumn('y', vector_to_array('pca_features')[1])"
   ]
  },
  {
   "cell_type": "code",
   "execution_count": 0,
   "metadata": {
    "application/vnd.databricks.v1+cell": {
     "cellMetadata": {
      "byteLimit": 2048000,
      "rowLimit": 10000
     },
     "inputWidgets": {},
     "nuid": "6de2cb4b-3d68-4cba-a88c-73082cee1962",
     "showTitle": false,
     "title": ""
    }
   },
   "outputs": [
    {
     "output_type": "stream",
     "name": "stdout",
     "output_type": "stream",
     "text": [
      "+-------------------+-------------------+-----------+--------------------+\n|                  x|                  y|cluster_pca|        artists_song|\n+-------------------+-------------------+-----------+--------------------+\n| -32.31725372407879|-18.925010131278484|         31|The Velvet Underg...|\n|-31.132818221782877| -21.34230486564101|         21|Ten Years After -...|\n| -31.78064916266871|-19.569645663588258|          9|The Mothers Of In...|\n| -31.60584489317542|-19.547985862609632|         31|Three Dog Night -...|\n|-31.594059088957664|-20.741768225806418|         43|The Rolling Stone...|\n|-31.938780024366565| -18.64127655559876|         13|Sly & The Family ...|\n|-29.686935486197306| -21.43318756800143|         47|William S. Fische...|\n|-31.539167346660424|-20.172532235961633|         32|Yusuf / Cat Steve...|\n|-30.771547827750314|-19.778300972177536|         17|The Meters - Oh, ...|\n|-29.965130076522186| -20.25008778917281|         19|Linda Ronstadt - ...|\n|-31.131053018497823| -19.02791962598012|         31|Van Morrison - In...|\n|-31.266813769537055| -19.16966078525756|         31|Johnny Cash - Sou...|\n|-31.446803723293115|-18.992131490192712|         31|James Gang - Ther...|\n|-29.943208559405377|-19.277623892612592|          4|Paul McCartney - ...|\n|-29.853371939403015|-19.347323628976966|         14|Kris Kristofferso...|\n|-31.758364291022623|-19.486490268081926|         31|Stevie Wonder - N...|\n|-30.549983241698882| -19.34902465988547|          2|Elton John - Take...|\n| -29.34740441538552| -20.58760213042945|         42|The Guess Who - T...|\n|-31.337850883791706|-19.230437601073696|         31|John Denver - Car...|\n| -32.65964407361894|-19.455070020788256|         45|Doris Troy - Ain'...|\n+-------------------+-------------------+-----------+--------------------+\nonly showing top 20 rows\n\n"
     ]
    }
   ],
   "source": [
    "projection_kmeans.select(['x', 'y', 'cluster_pca', 'artists_song']).show()"
   ]
  },
  {
   "cell_type": "code",
   "execution_count": 0,
   "metadata": {
    "application/vnd.databricks.v1+cell": {
     "cellMetadata": {
      "byteLimit": 2048000,
      "rowLimit": 10000
     },
     "inputWidgets": {},
     "nuid": "263772a1-bb11-4775-b2de-dd1ed24d0125",
     "showTitle": false,
     "title": ""
    }
   },
   "outputs": [],
   "source": [
    "import plotly.express as px"
   ]
  }
 ],
 "metadata": {
  "application/vnd.databricks.v1+notebook": {
   "dashboards": [],
   "language": "python",
   "notebookMetadata": {
    "pythonIndentUnit": 4
   },
   "notebookName": "Recomendador (1)",
   "widgets": {}
  }
 },
 "nbformat": 4,
 "nbformat_minor": 0
}
